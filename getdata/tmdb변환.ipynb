{
 "cells": [
  {
   "cell_type": "code",
   "execution_count": null,
   "metadata": {},
   "outputs": [],
   "source": [
    "import pandas as pd\n",
    "import json"
   ]
  },
  {
   "cell_type": "code",
   "execution_count": 2,
   "metadata": {},
   "outputs": [],
   "source": [
    "data = []\n",
    "with open('./tmdbKr.json','r',encoding='utf8') as file :\n",
    "    data= json.load(file)"
   ]
  },
  {
   "cell_type": "code",
   "execution_count": 3,
   "metadata": {},
   "outputs": [],
   "source": [
    "# 빈 데이터프레임\n",
    "df = pd.DataFrame(columns=['title','genres','id','release_date','overview','original_title','vote_average','vote_count','poster_path'])"
   ]
  },
  {
   "cell_type": "code",
   "execution_count": 40,
   "metadata": {},
   "outputs": [
    {
     "data": {
      "text/html": [
       "<div>\n",
       "<style scoped>\n",
       "    .dataframe tbody tr th:only-of-type {\n",
       "        vertical-align: middle;\n",
       "    }\n",
       "\n",
       "    .dataframe tbody tr th {\n",
       "        vertical-align: top;\n",
       "    }\n",
       "\n",
       "    .dataframe thead th {\n",
       "        text-align: right;\n",
       "    }\n",
       "</style>\n",
       "<table border=\"1\" class=\"dataframe\">\n",
       "  <thead>\n",
       "    <tr style=\"text-align: right;\">\n",
       "      <th></th>\n",
       "      <th>title</th>\n",
       "      <th>genres</th>\n",
       "      <th>id</th>\n",
       "      <th>release_date</th>\n",
       "      <th>overview</th>\n",
       "      <th>keywords</th>\n",
       "      <th>original_title</th>\n",
       "      <th>vote_average</th>\n",
       "      <th>vote_count</th>\n",
       "      <th>poster_path</th>\n",
       "    </tr>\n",
       "  </thead>\n",
       "  <tbody>\n",
       "  </tbody>\n",
       "</table>\n",
       "</div>"
      ],
      "text/plain": [
       "Empty DataFrame\n",
       "Columns: [title, genres, id, release_date, overview, keywords, original_title, vote_average, vote_count, poster_path]\n",
       "Index: []"
      ]
     },
     "execution_count": 40,
     "metadata": {},
     "output_type": "execute_result"
    }
   ],
   "source": [
    "df"
   ]
  },
  {
   "cell_type": "code",
   "execution_count": 24,
   "metadata": {},
   "outputs": [],
   "source": [
    "#url = \"https://image.tmdb.org/t/p/w500/{poster}\""
   ]
  },
  {
   "cell_type": "code",
   "execution_count": 16,
   "metadata": {},
   "outputs": [],
   "source": [
    "# 영화데이터\n",
    "\n",
    "# 모든데이터 for문 돌면서\n",
    "# model == movies.movie 일때\n",
    "# 각 값들을 뽑아서 새로운 데이터프레임으로 만들고 \n",
    "# 기존 데이터프레임에 합쳐주는 과정\n",
    "genre_list = list()\n",
    "for i in range(len(data)) :\n",
    "    if data[i]['model'] == 'movies.genre':\n",
    "        genre_list.append(data[i])\n",
    "    elif data[i]['model']=='movies.movie':\n",
    "        title =  data[i]['fields']['title']\n",
    "        gen = data[i]['fields']['genre_ids']\n",
    "        #print(gen)\n",
    "        #break\n",
    "        gen_id2str = list()\n",
    "        for gen_ in gen:\n",
    "            for _a in genre_list:\n",
    "                if _a['pk'] == gen_:\n",
    "                    gen_id2str.append(_a['fields']['name'])\n",
    "                    break    \n",
    "        \n",
    "        #print(gen_id2str)\n",
    "        #break\n",
    "            \n",
    "        \n",
    "        #gen_str = ','.join(str(e) for e in gen) # 여러값이 있어서 해야하는데 이해안감\n",
    "        id = data[i]['pk']\n",
    "        if 'release_date' not in data[i]['fields']:\n",
    "            continue\n",
    "        release_date = data[i]['fields']['release_date']\n",
    "        \n",
    "        overview = data[i]['fields']['overview']\n",
    "        original_title = data[i]['fields']['original_title']\n",
    "        vote_average = data[i]['fields']['vote_average']\n",
    "        vote_count = data[i]['fields']['vote_count']\n",
    "        poster_path = data[i]['fields']['poster_path']\n",
    "    \n",
    "        \n",
    "        # print(type(poster_path))\n",
    "\n",
    "        data_json = {'title':[title],'genres':[gen_id2str],'id':[id],'release_date':[release_date],'overview':[overview],'original_title':[original_title],'vote_average':[vote_average],'vote_count':[vote_count],'poster_path':[poster_path]}\n",
    "        df_tmp= pd.DataFrame(data_json)\n",
    "        df =  pd.concat([df, df_tmp], ignore_index = True)"
   ]
  },
  {
   "cell_type": "code",
   "execution_count": 15,
   "metadata": {},
   "outputs": [
    {
     "data": {
      "text/plain": [
       "'url+poster'"
      ]
     },
     "execution_count": 15,
     "metadata": {},
     "output_type": "execute_result"
    }
   ],
   "source": [
    "df['poster_path'][700]"
   ]
  },
  {
   "cell_type": "code",
   "execution_count": null,
   "metadata": {},
   "outputs": [],
   "source": [
    "str_pp = list(df['poster_path'])\n",
    "str_pp = str_pp.apply(lambda x : ('').join(x))"
   ]
  },
  {
   "cell_type": "code",
   "execution_count": 21,
   "metadata": {},
   "outputs": [
    {
     "data": {
      "text/plain": [
       "title             0\n",
       "genres            0\n",
       "id                0\n",
       "release_date      0\n",
       "overview          0\n",
       "original_title    0\n",
       "vote_average      0\n",
       "vote_count        0\n",
       "poster_path       0\n",
       "dtype: int64"
      ]
     },
     "execution_count": 21,
     "metadata": {},
     "output_type": "execute_result"
    }
   ],
   "source": [
    "df.isnull().sum()"
   ]
  },
  {
   "cell_type": "code",
   "execution_count": 37,
   "metadata": {},
   "outputs": [],
   "source": [
    "df.to_csv('./tmdbData.csv',encoding='utf8',index=False)\n",
    "#df.to_csv('./test.csv',encoding='utf8',index=False)"
   ]
  }
 ],
 "metadata": {
  "kernelspec": {
   "display_name": "Python 3",
   "language": "python",
   "name": "python3"
  },
  "language_info": {
   "codemirror_mode": {
    "name": "ipython",
    "version": 3
   },
   "file_extension": ".py",
   "mimetype": "text/x-python",
   "name": "python",
   "nbconvert_exporter": "python",
   "pygments_lexer": "ipython3",
   "version": "3.11.1"
  },
  "orig_nbformat": 4
 },
 "nbformat": 4,
 "nbformat_minor": 2
}
